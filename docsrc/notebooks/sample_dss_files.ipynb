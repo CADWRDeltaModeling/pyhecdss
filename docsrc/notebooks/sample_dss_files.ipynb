{
 "cells": [
  {
   "cell_type": "markdown",
   "metadata": {
    "ExecuteTime": {
     "end_time": "2019-08-28T00:37:53.304843Z",
     "start_time": "2019-08-28T00:37:53.302842Z"
    }
   },
   "source": [
    "# Sample Demo"
   ]
  },
  {
   "cell_type": "code",
   "execution_count": 1,
   "metadata": {
    "ExecuteTime": {
     "end_time": "2020-10-09T21:06:14.482647Z",
     "start_time": "2020-10-09T21:06:12.771984Z"
    }
   },
   "outputs": [],
   "source": [
    "%matplotlib inline \n",
    "import numpy as np\n",
    "import pandas as pd\n",
    "import pyhecdss"
   ]
  },
  {
   "cell_type": "markdown",
   "metadata": {},
   "source": [
    "## Setting message level and program name\n"
   ]
  },
  {
   "cell_type": "code",
   "execution_count": 2,
   "metadata": {
    "ExecuteTime": {
     "end_time": "2020-10-09T21:06:14.490612Z",
     "start_time": "2020-10-09T21:06:14.483644Z"
    },
    "tags": []
   },
   "outputs": [
    {
     "name": "stdout",
     "output_type": "stream",
     "text": [
      "Version of DSS file  sample.dss :  ['6-VE', 6]\n"
     ]
    }
   ],
   "source": [
    "pyhecdss.set_message_level(10) # highest level with debug level of output\n",
    "pyhecdss.set_message_level(0) # quiets messages to only aborts\n",
    "pyhecdss.set_program_name('PYTHON') # name used when writing to DSS files\n",
    "fname=r'sample.dss'\n",
    "print('Version of DSS file ',fname,': ',pyhecdss.get_version(fname)) # version of DSS file format as a string and integer tuple"
   ]
  },
  {
   "cell_type": "markdown",
   "metadata": {},
   "source": [
    "## Example of writing a DSS File\n",
    "\n",
    "This notebook is an example of how to interact with the features of pyhecdss\n",
    "pyhecdss is a C-Python interface to HECLIB and in particular HECDSS. The plan is to only support reading regular and irregular time series into pandas DataFrame structure."
   ]
  },
  {
   "cell_type": "markdown",
   "metadata": {},
   "source": [
    "## Opening and closing a DSS File\n",
    "\n",
    "<font color=red>__Warning__ This will create an empty DSS file if one does not exist!</font>\n",
    "\n",
    "Use the with statement as it takes care of closing the file handle and other resources"
   ]
  },
  {
   "cell_type": "code",
   "execution_count": 3,
   "metadata": {
    "ExecuteTime": {
     "end_time": "2020-10-09T21:06:14.500568Z",
     "start_time": "2020-10-09T21:06:14.491609Z"
    }
   },
   "outputs": [],
   "source": [
    "fname=r'sample.dss'\n",
    "with pyhecdss.DSSFile(fname) as d:\n",
    "    d.close()"
   ]
  },
  {
   "cell_type": "markdown",
   "metadata": {},
   "source": [
    "## A regular time series\n",
    "\n",
    "Create a pandas DataFrame of a sin wave and then write it out a pathname.\n",
    "\n",
    "The concepts of regular time series is defined in HEC-DSS documentation. I would direct you there. There a limited number of period intervals supported by HEC-DSS formats. \n",
    "\n",
    "In addition to the pathname concept (pathnames consist of 6 parts A-F represented in a path like format /A/B/C/D/E/F/) the DSS format also stores units and the type of period (instantaneous or period and value or average as INST-VAL, PER-AVG, PER-VAL). \n"
   ]
  },
  {
   "cell_type": "code",
   "execution_count": 4,
   "metadata": {
    "ExecuteTime": {
     "end_time": "2020-10-09T21:06:14.510524Z",
     "start_time": "2020-10-09T21:06:14.501564Z"
    }
   },
   "outputs": [],
   "source": [
    "sina=np.sin(np.linspace(-np.pi, np.pi, 201))\n",
    "dfr=pd.DataFrame(sina,index=pd.date_range('01jan1990 0100',periods=len(sina),freq='15T'))"
   ]
  },
  {
   "cell_type": "code",
   "execution_count": 5,
   "metadata": {
    "ExecuteTime": {
     "end_time": "2020-10-09T21:06:14.523038Z",
     "start_time": "2020-10-09T21:06:14.511519Z"
    }
   },
   "outputs": [],
   "source": [
    "with pyhecdss.DSSFile(fname) as d:\n",
    "    d.write_rts('/SAMPLE/SIN/WAVE//15MIN/SAMPLE1/',dfr,'UNIT-X','INST-VAL')"
   ]
  },
  {
   "cell_type": "markdown",
   "metadata": {},
   "source": [
    "## An irregular time series\n",
    "\n",
    "Create a pandas DataFrame and write it out as a pathname\n",
    "\n",
    "Again very similar to the regular time series. For details on the concepts please refer to documentation for HEC-DSS\n"
   ]
  },
  {
   "cell_type": "code",
   "execution_count": 6,
   "metadata": {
    "ExecuteTime": {
     "end_time": "2020-10-09T21:06:14.532003Z",
     "start_time": "2020-10-09T21:06:14.524038Z"
    }
   },
   "outputs": [],
   "source": [
    "dfi=pd.DataFrame([1.5, 3.2, 2.7], index=pd.to_datetime(['01jan1990 0317', '09apr1991 0520', '05sep1992 2349']))"
   ]
  },
  {
   "cell_type": "code",
   "execution_count": 7,
   "metadata": {
    "ExecuteTime": {
     "end_time": "2020-10-09T21:06:14.548029Z",
     "start_time": "2020-10-09T21:06:14.532998Z"
    }
   },
   "outputs": [],
   "source": [
    "with pyhecdss.DSSFile(fname) as d:\n",
    "    d.write_its('/SAMPLE/ITS1/RANDOM//IR-YEAR/SAMPLE2/',dfi,'YYY','INST-VAL')"
   ]
  },
  {
   "cell_type": "code",
   "execution_count": 8,
   "metadata": {
    "ExecuteTime": {
     "end_time": "2020-10-09T21:06:14.602814Z",
     "start_time": "2020-10-09T21:06:14.549020Z"
    },
    "tags": []
   },
   "outputs": [
    {
     "data": {
      "text/html": [
       "<div>\n",
       "<style scoped>\n",
       "    .dataframe tbody tr th:only-of-type {\n",
       "        vertical-align: middle;\n",
       "    }\n",
       "\n",
       "    .dataframe tbody tr th {\n",
       "        vertical-align: top;\n",
       "    }\n",
       "\n",
       "    .dataframe thead th {\n",
       "        text-align: right;\n",
       "    }\n",
       "</style>\n",
       "<table border=\"1\" class=\"dataframe\">\n",
       "  <thead>\n",
       "    <tr style=\"text-align: right;\">\n",
       "      <th></th>\n",
       "      <th>T</th>\n",
       "      <th>A</th>\n",
       "      <th>B</th>\n",
       "      <th>C</th>\n",
       "      <th>F</th>\n",
       "      <th>E</th>\n",
       "      <th>D</th>\n",
       "    </tr>\n",
       "  </thead>\n",
       "  <tbody>\n",
       "    <tr>\n",
       "      <th>0</th>\n",
       "      <td>T4</td>\n",
       "      <td>SAMPLE</td>\n",
       "      <td>ITS1</td>\n",
       "      <td>RANDOM</td>\n",
       "      <td>SAMPLE2</td>\n",
       "      <td>IR-YEAR</td>\n",
       "      <td>01JAN1990 - 01JAN1992</td>\n",
       "    </tr>\n",
       "    <tr>\n",
       "      <th>1</th>\n",
       "      <td>T4</td>\n",
       "      <td>SAMPLE</td>\n",
       "      <td>SIN</td>\n",
       "      <td>WAVE</td>\n",
       "      <td>SAMPLE1</td>\n",
       "      <td>15MIN</td>\n",
       "      <td>01JAN1990 - 01JAN1990</td>\n",
       "    </tr>\n",
       "  </tbody>\n",
       "</table>\n",
       "</div>"
      ],
      "text/plain": [
       "    T       A     B       C        F        E                      D\n",
       "0  T4  SAMPLE  ITS1  RANDOM  SAMPLE2  IR-YEAR  01JAN1990 - 01JAN1992\n",
       "1  T4  SAMPLE   SIN    WAVE  SAMPLE1    15MIN  01JAN1990 - 01JAN1990"
      ]
     },
     "metadata": {},
     "output_type": "display_data"
    }
   ],
   "source": [
    "# Catalog reading\n",
    "with pyhecdss.DSSFile(fname) as d:\n",
    "    catdf=d.read_catalog()\n",
    "    display(catdf)"
   ]
  },
  {
   "cell_type": "markdown",
   "metadata": {},
   "source": [
    "## Catalog filtering\n",
    "The catalog dataframe from the read_catalog method can use the pandas DataFrame filtering/indexing features to create a filtered data frame. That can be then used with get_pathnames to return the filtered list of pathnames"
   ]
  },
  {
   "cell_type": "code",
   "execution_count": 9,
   "metadata": {
    "ExecuteTime": {
     "end_time": "2020-10-09T21:06:14.619739Z",
     "start_time": "2020-10-09T21:06:14.603810Z"
    }
   },
   "outputs": [
    {
     "data": {
      "text/html": [
       "<div>\n",
       "<style scoped>\n",
       "    .dataframe tbody tr th:only-of-type {\n",
       "        vertical-align: middle;\n",
       "    }\n",
       "\n",
       "    .dataframe tbody tr th {\n",
       "        vertical-align: top;\n",
       "    }\n",
       "\n",
       "    .dataframe thead th {\n",
       "        text-align: right;\n",
       "    }\n",
       "</style>\n",
       "<table border=\"1\" class=\"dataframe\">\n",
       "  <thead>\n",
       "    <tr style=\"text-align: right;\">\n",
       "      <th></th>\n",
       "      <th>T</th>\n",
       "      <th>A</th>\n",
       "      <th>B</th>\n",
       "      <th>C</th>\n",
       "      <th>F</th>\n",
       "      <th>E</th>\n",
       "      <th>D</th>\n",
       "    </tr>\n",
       "  </thead>\n",
       "  <tbody>\n",
       "    <tr>\n",
       "      <th>0</th>\n",
       "      <td>T4</td>\n",
       "      <td>SAMPLE</td>\n",
       "      <td>ITS1</td>\n",
       "      <td>RANDOM</td>\n",
       "      <td>SAMPLE2</td>\n",
       "      <td>IR-YEAR</td>\n",
       "      <td>01JAN1990 - 01JAN1992</td>\n",
       "    </tr>\n",
       "  </tbody>\n",
       "</table>\n",
       "</div>"
      ],
      "text/plain": [
       "    T       A     B       C        F        E                      D\n",
       "0  T4  SAMPLE  ITS1  RANDOM  SAMPLE2  IR-YEAR  01JAN1990 - 01JAN1992"
      ]
     },
     "metadata": {},
     "output_type": "display_data"
    },
    {
     "data": {
      "text/html": [
       "<div>\n",
       "<style scoped>\n",
       "    .dataframe tbody tr th:only-of-type {\n",
       "        vertical-align: middle;\n",
       "    }\n",
       "\n",
       "    .dataframe tbody tr th {\n",
       "        vertical-align: top;\n",
       "    }\n",
       "\n",
       "    .dataframe thead th {\n",
       "        text-align: right;\n",
       "    }\n",
       "</style>\n",
       "<table border=\"1\" class=\"dataframe\">\n",
       "  <thead>\n",
       "    <tr style=\"text-align: right;\">\n",
       "      <th></th>\n",
       "      <th>T</th>\n",
       "      <th>A</th>\n",
       "      <th>B</th>\n",
       "      <th>C</th>\n",
       "      <th>F</th>\n",
       "      <th>E</th>\n",
       "      <th>D</th>\n",
       "    </tr>\n",
       "  </thead>\n",
       "  <tbody>\n",
       "    <tr>\n",
       "      <th>1</th>\n",
       "      <td>T4</td>\n",
       "      <td>SAMPLE</td>\n",
       "      <td>SIN</td>\n",
       "      <td>WAVE</td>\n",
       "      <td>SAMPLE1</td>\n",
       "      <td>15MIN</td>\n",
       "      <td>01JAN1990 - 01JAN1990</td>\n",
       "    </tr>\n",
       "  </tbody>\n",
       "</table>\n",
       "</div>"
      ],
      "text/plain": [
       "    T       A    B     C        F      E                      D\n",
       "1  T4  SAMPLE  SIN  WAVE  SAMPLE1  15MIN  01JAN1990 - 01JAN1990"
      ]
     },
     "metadata": {},
     "output_type": "display_data"
    }
   ],
   "source": [
    "fdf1=catdf[(catdf.B=='ITS1') & (catdf.C=='RANDOM')]\n",
    "display(fdf1)\n",
    "fdf2=catdf[catdf.B=='SIN']\n",
    "display(fdf2.head())\n"
   ]
  },
  {
   "cell_type": "markdown",
   "metadata": {},
   "source": [
    "## Reading Timeseries Data\n"
   ]
  },
  {
   "cell_type": "code",
   "execution_count": 10,
   "metadata": {
    "ExecuteTime": {
     "end_time": "2020-10-09T21:06:14.641643Z",
     "start_time": "2020-10-09T21:06:14.620735Z"
    }
   },
   "outputs": [
    {
     "data": {
      "text/plain": [
       "'YYY'"
      ]
     },
     "metadata": {},
     "output_type": "display_data"
    },
    {
     "data": {
      "text/plain": [
       "'INST-VAL'"
      ]
     },
     "metadata": {},
     "output_type": "display_data"
    },
    {
     "data": {
      "text/html": [
       "<div>\n",
       "<style scoped>\n",
       "    .dataframe tbody tr th:only-of-type {\n",
       "        vertical-align: middle;\n",
       "    }\n",
       "\n",
       "    .dataframe tbody tr th {\n",
       "        vertical-align: top;\n",
       "    }\n",
       "\n",
       "    .dataframe thead th {\n",
       "        text-align: right;\n",
       "    }\n",
       "</style>\n",
       "<table border=\"1\" class=\"dataframe\">\n",
       "  <thead>\n",
       "    <tr style=\"text-align: right;\">\n",
       "      <th></th>\n",
       "      <th>/SAMPLE/ITS1/RANDOM/01JAN1990 - 01JAN1992/IR-YEAR/SAMPLE2/</th>\n",
       "    </tr>\n",
       "  </thead>\n",
       "  <tbody>\n",
       "    <tr>\n",
       "      <th>1990-01-01 03:17:00</th>\n",
       "      <td>1.5</td>\n",
       "    </tr>\n",
       "    <tr>\n",
       "      <th>1991-04-09 05:20:00</th>\n",
       "      <td>3.2</td>\n",
       "    </tr>\n",
       "    <tr>\n",
       "      <th>1992-09-05 23:49:00</th>\n",
       "      <td>2.7</td>\n",
       "    </tr>\n",
       "  </tbody>\n",
       "</table>\n",
       "</div>"
      ],
      "text/plain": [
       "                     /SAMPLE/ITS1/RANDOM/01JAN1990 - 01JAN1992/IR-YEAR/SAMPLE2/\n",
       "1990-01-01 03:17:00                                                1.5         \n",
       "1991-04-09 05:20:00                                                3.2         \n",
       "1992-09-05 23:49:00                                                2.7         "
      ]
     },
     "metadata": {},
     "output_type": "display_data"
    },
    {
     "data": {
      "text/html": [
       "<div>\n",
       "<style scoped>\n",
       "    .dataframe tbody tr th:only-of-type {\n",
       "        vertical-align: middle;\n",
       "    }\n",
       "\n",
       "    .dataframe tbody tr th {\n",
       "        vertical-align: top;\n",
       "    }\n",
       "\n",
       "    .dataframe thead th {\n",
       "        text-align: right;\n",
       "    }\n",
       "</style>\n",
       "<table border=\"1\" class=\"dataframe\">\n",
       "  <thead>\n",
       "    <tr style=\"text-align: right;\">\n",
       "      <th></th>\n",
       "      <th>/SAMPLE/SIN/WAVE/01JAN1990 - 01JAN1990/15MIN/SAMPLE1/</th>\n",
       "    </tr>\n",
       "  </thead>\n",
       "  <tbody>\n",
       "    <tr>\n",
       "      <th>1990-01-01 01:00:00</th>\n",
       "      <td>-1.224647e-16</td>\n",
       "    </tr>\n",
       "    <tr>\n",
       "      <th>1990-01-01 01:15:00</th>\n",
       "      <td>-3.141076e-02</td>\n",
       "    </tr>\n",
       "    <tr>\n",
       "      <th>1990-01-01 01:30:00</th>\n",
       "      <td>-6.279052e-02</td>\n",
       "    </tr>\n",
       "    <tr>\n",
       "      <th>1990-01-01 01:45:00</th>\n",
       "      <td>-9.410831e-02</td>\n",
       "    </tr>\n",
       "    <tr>\n",
       "      <th>1990-01-01 02:00:00</th>\n",
       "      <td>-1.253332e-01</td>\n",
       "    </tr>\n",
       "  </tbody>\n",
       "</table>\n",
       "</div>"
      ],
      "text/plain": [
       "                     /SAMPLE/SIN/WAVE/01JAN1990 - 01JAN1990/15MIN/SAMPLE1/\n",
       "1990-01-01 01:00:00                                      -1.224647e-16    \n",
       "1990-01-01 01:15:00                                      -3.141076e-02    \n",
       "1990-01-01 01:30:00                                      -6.279052e-02    \n",
       "1990-01-01 01:45:00                                      -9.410831e-02    \n",
       "1990-01-01 02:00:00                                      -1.253332e-01    "
      ]
     },
     "metadata": {},
     "output_type": "display_data"
    }
   ],
   "source": [
    "with pyhecdss.DSSFile(fname) as d:\n",
    "    plist1=d.get_pathnames(fdf1)\n",
    "    dfr1,units1,ptype1=d.read_its(plist1[0])\n",
    "    display(units1,ptype1)\n",
    "    display(dfr1.head())\n",
    "    plist2=d.get_pathnames(fdf2)\n",
    "    dfi1,units2,ptype2=d.read_rts(plist2[0])\n",
    "    display(dfi1.head())"
   ]
  },
  {
   "cell_type": "markdown",
   "metadata": {},
   "source": [
    "## Closing DSS File\n",
    "Closing the DSS File is important as multi user access is possible but might hang if the other thread is writing and holding on to an open handle\n",
    "\n",
    "<font color=red>__Warning__ Just use the \"with\" statement. Much better than opening and close like this!</font>"
   ]
  },
  {
   "cell_type": "code",
   "execution_count": 11,
   "metadata": {
    "ExecuteTime": {
     "end_time": "2020-10-09T21:06:14.647617Z",
     "start_time": "2020-10-09T21:06:14.642639Z"
    }
   },
   "outputs": [],
   "source": [
    "d=pyhecdss.DSSFile(fname)\n",
    "d.close()"
   ]
  },
  {
   "cell_type": "markdown",
   "metadata": {},
   "source": [
    "# Best way to work with DSS Files\n",
    "Using context managers allows "
   ]
  },
  {
   "cell_type": "code",
   "execution_count": 12,
   "metadata": {
    "ExecuteTime": {
     "end_time": "2020-10-09T21:06:14.687442Z",
     "start_time": "2020-10-09T21:06:14.648612Z"
    }
   },
   "outputs": [
    {
     "data": {
      "text/html": [
       "<div>\n",
       "<style scoped>\n",
       "    .dataframe tbody tr th:only-of-type {\n",
       "        vertical-align: middle;\n",
       "    }\n",
       "\n",
       "    .dataframe tbody tr th {\n",
       "        vertical-align: top;\n",
       "    }\n",
       "\n",
       "    .dataframe thead th {\n",
       "        text-align: right;\n",
       "    }\n",
       "</style>\n",
       "<table border=\"1\" class=\"dataframe\">\n",
       "  <thead>\n",
       "    <tr style=\"text-align: right;\">\n",
       "      <th></th>\n",
       "      <th>T</th>\n",
       "      <th>A</th>\n",
       "      <th>B</th>\n",
       "      <th>C</th>\n",
       "      <th>F</th>\n",
       "      <th>E</th>\n",
       "      <th>D</th>\n",
       "    </tr>\n",
       "  </thead>\n",
       "  <tbody>\n",
       "    <tr>\n",
       "      <th>0</th>\n",
       "      <td>T4</td>\n",
       "      <td>SAMPLE</td>\n",
       "      <td>ITS1</td>\n",
       "      <td>RANDOM</td>\n",
       "      <td>SAMPLE2</td>\n",
       "      <td>IR-YEAR</td>\n",
       "      <td>01JAN1990 - 01JAN1992</td>\n",
       "    </tr>\n",
       "    <tr>\n",
       "      <th>1</th>\n",
       "      <td>T4</td>\n",
       "      <td>SAMPLE</td>\n",
       "      <td>SIN</td>\n",
       "      <td>WAVE</td>\n",
       "      <td>SAMPLE1</td>\n",
       "      <td>15MIN</td>\n",
       "      <td>01JAN1990 - 01JAN1990</td>\n",
       "    </tr>\n",
       "  </tbody>\n",
       "</table>\n",
       "</div>"
      ],
      "text/plain": [
       "    T       A     B       C        F        E                      D\n",
       "0  T4  SAMPLE  ITS1  RANDOM  SAMPLE2  IR-YEAR  01JAN1990 - 01JAN1992\n",
       "1  T4  SAMPLE   SIN    WAVE  SAMPLE1    15MIN  01JAN1990 - 01JAN1990"
      ]
     },
     "metadata": {},
     "output_type": "display_data"
    }
   ],
   "source": [
    "with pyhecdss.DSSFile('sample.dss') as d:\n",
    "    display(d.read_catalog())\n",
    "# d is closed once out of the context of the with statement above"
   ]
  },
  {
   "cell_type": "code",
   "execution_count": 13,
   "metadata": {
    "ExecuteTime": {
     "end_time": "2020-10-09T21:06:14.725275Z",
     "start_time": "2020-10-09T21:06:14.688437Z"
    },
    "tags": []
   },
   "outputs": [
    {
     "name": "stdout",
     "output_type": "stream",
     "text": [
      "DSSDate(data=                     /SAMPLE/SIN/WAVE/01JAN1990 - 01JAN1990/15MIN/SAMPLE1/\n",
      "1990-01-01 01:00:00                                      -1.224647e-16    \n",
      "1990-01-01 01:15:00                                      -3.141076e-02    \n",
      "1990-01-01 01:30:00                                      -6.279052e-02    \n",
      "1990-01-01 01:45:00                                      -9.410831e-02    \n",
      "1990-01-01 02:00:00                                      -1.253332e-01    \n",
      "...                                                                ...    \n",
      "1990-01-03 02:00:00                                       1.253332e-01    \n",
      "1990-01-03 02:15:00                                       9.410831e-02    \n",
      "1990-01-03 02:30:00                                       6.279052e-02    \n",
      "1990-01-03 02:45:00                                       3.141076e-02    \n",
      "1990-01-03 03:00:00                                       1.224647e-16    \n",
      "\n",
      "[201 rows x 1 columns], units='UNIT-X', period_type='INST-VAL')\n"
     ]
    }
   ],
   "source": [
    "for data in pyhecdss.get_ts('sample.dss','/SAMPLE/SIN/////'):\n",
    "    print(data)"
   ]
  },
  {
   "cell_type": "code",
   "execution_count": 14,
   "metadata": {
    "ExecuteTime": {
     "end_time": "2020-10-09T21:06:14.766197Z",
     "start_time": "2020-10-09T21:06:14.726271Z"
    },
    "tags": []
   },
   "outputs": [
    {
     "name": "stdout",
     "output_type": "stream",
     "text": [
      "DSSDate(data=                     /SAMPLE/ITS1/RANDOM/01JAN1990 - 01JAN1992/IR-YEAR/SAMPLE2/\n",
      "1990-01-01 03:17:00                                                1.5         \n",
      "1991-04-09 05:20:00                                                3.2         \n",
      "1992-09-05 23:49:00                                                2.7         , units='YYY', period_type='INST-VAL')\n",
      "DSSDate(data=                     /SAMPLE/SIN/WAVE/01JAN1990 - 01JAN1990/15MIN/SAMPLE1/\n",
      "1990-01-01 01:00:00                                      -1.224647e-16    \n",
      "1990-01-01 01:15:00                                      -3.141076e-02    \n",
      "1990-01-01 01:30:00                                      -6.279052e-02    \n",
      "1990-01-01 01:45:00                                      -9.410831e-02    \n",
      "1990-01-01 02:00:00                                      -1.253332e-01    \n",
      "...                                                                ...    \n",
      "1990-01-03 02:00:00                                       1.253332e-01    \n",
      "1990-01-03 02:15:00                                       9.410831e-02    \n",
      "1990-01-03 02:30:00                                       6.279052e-02    \n",
      "1990-01-03 02:45:00                                       3.141076e-02    \n",
      "1990-01-03 03:00:00                                       1.224647e-16    \n",
      "\n",
      "[201 rows x 1 columns], units='UNIT-X', period_type='INST-VAL')\n"
     ]
    }
   ],
   "source": [
    "for data in pyhecdss.get_matching_ts('sample.dss','//.*/////'):\n",
    "    print(data)"
   ]
  },
  {
   "cell_type": "markdown",
   "metadata": {},
   "source": [
    "## Plotting and other features\n",
    "Once the data is available as a pandas DataFrame, all the features such as plotting and analysis is available through that library."
   ]
  },
  {
   "cell_type": "code",
   "execution_count": 15,
   "metadata": {
    "ExecuteTime": {
     "end_time": "2020-10-09T21:06:15.119608Z",
     "start_time": "2020-10-09T21:06:14.768187Z"
    }
   },
   "outputs": [
    {
     "data": {
      "image/png": "[encoded data removed]",
      "text/plain": [
       "<Figure size 432x288 with 1 Axes>"
      ]
     },
     "metadata": {
      "needs_background": "light"
     },
     "output_type": "display_data"
    },
    {
     "data": {
      "image/png": "[encoded data removed]",
      "text/plain": [
       "<Figure size 432x288 with 1 Axes>"
      ]
     },
     "metadata": {
      "needs_background": "light"
     },
     "output_type": "display_data"
    }
   ],
   "source": [
    "axes1=dfr1.plot()\n",
    "axes2=dfi1.plot()"
   ]
  },
  {
   "cell_type": "code",
   "execution_count": null,
   "metadata": {},
   "outputs": [],
   "source": []
  }
 ],
 "metadata": {
  "hide_input": false,
  "kernelspec": {
   "display_name": "Python [conda env:dev_pydelmod]",
   "language": "python",
   "name": "conda-env-dev_pydelmod-py"
  },
  "language_info": {
   "codemirror_mode": {
    "name": "ipython",
    "version": 3
   },
   "file_extension": ".py",
   "mimetype": "text/x-python",
   "name": "python",
   "nbconvert_exporter": "python",
   "pygments_lexer": "ipython3",
   "version": "3.7.6"
  },
  "toc": {
   "base_numbering": 1,
   "nav_menu": {},
   "number_sections": true,
   "sideBar": true,
   "skip_h1_title": false,
   "title_cell": "Table of Contents",
   "title_sidebar": "Contents",
   "toc_cell": false,
   "toc_position": {},
   "toc_section_display": true,
   "toc_window_display": false
  },
  "varInspector": {
   "cols": {
    "lenName": 16,
    "lenType": 16,
    "lenVar": 40
   },
   "kernels_config": {
    "python": {
     "delete_cmd_postfix": "",
     "delete_cmd_prefix": "del ",
     "library": "var_list.py",
     "varRefreshCmd": "print(var_dic_list())"
    },
    "r": {
     "delete_cmd_postfix": ") ",
     "delete_cmd_prefix": "rm(",
     "library": "var_list.r",
     "varRefreshCmd": "cat(var_dic_list()) "
    }
   },
   "types_to_exclude": [
    "module",
    "function",
    "builtin_function_or_method",
    "instance",
    "_Feature"
   ],
   "window_display": false
  }
 },
 "nbformat": 4,
 "nbformat_minor": 2
}
